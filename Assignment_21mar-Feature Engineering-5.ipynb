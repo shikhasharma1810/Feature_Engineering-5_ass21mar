{
 "cells": [
  {
   "cell_type": "code",
   "execution_count": null,
   "id": "eb5e2bfe-b496-4a8c-b6ee-b62187974724",
   "metadata": {},
   "outputs": [],
   "source": [
    "Q1. What is the difference between Ordinal Encoding and Label Encoding? Provide an example of when you\n",
    "might choose one over the other."
   ]
  },
  {
   "cell_type": "code",
   "execution_count": null,
   "id": "997212bc-0202-4f98-955c-13783c18d20e",
   "metadata": {},
   "outputs": [],
   "source": [
    "Encoding Method:\n",
    "    \n",
    "OrdinalEncoder encodes categorical features as ordinal integers based on the order of \n",
    "the categories.\n",
    "LabelEncoder assigns a unique integer to each category without considering any order.\n",
    "\n",
    "Handling of Ordinality:\n",
    "OrdinalEncoder preserves the ordinal information present in the categorical features.\n",
    "LabelEncoder does not consider the ordinality of the categories and treats them as nominal.\n",
    "\n",
    "Suitable Data Types:\n",
    "OrdinalEncoder is suitable for encoding ordinal categorical features where the order matters,\n",
    "such as temperature categories (cold, warm, hot).\n",
    "LabelEncoder is typically used for encoding nominal categorical features where there is no\n",
    "inherent order, such as color categories (red, blue, green).\n",
    "\n",
    "Example:\n",
    "OrdinalEncoder can be used to encode temperature categories (cold, warm, hot) as 0, 1, 2, \n",
    "preserving their order.\n",
    "LabelEncoder can be used to encode color categories (red, blue, green) as 0, 1, and 2, \n",
    "without considering any order.\n",
    "\n",
    "Library:\n",
    "Both OrdinalEncoder and LabelEncoder are supported in scikit-learn, making them readily\n",
    "accessible for data preprocessing tasks."
   ]
  },
  {
   "cell_type": "code",
   "execution_count": null,
   "id": "6ded9160-4c02-4234-8997-87c2443a8baf",
   "metadata": {},
   "outputs": [],
   "source": [
    "Label encoding can be applied to both ordinal and nominal categorical variables. It \n",
    "assigns a number to each category whereas Ordinal encoding is used when categories\n",
    "have a natural order, like low, medium, high. For example, responses like \n",
    "'strongly agree,' 'agree,' 'neutral,' 'disagree,' and 'strongly disagree' are ordinal\n",
    "because they follow a specific sequence."
   ]
  },
  {
   "cell_type": "code",
   "execution_count": null,
   "id": "94de1602-dcbf-4237-b8fc-ef02da21074d",
   "metadata": {},
   "outputs": [],
   "source": [
    "Q2. Explain how Target Guided Ordinal Encoding works and provide an example of when you might use it in\n",
    "a machine learning project."
   ]
  },
  {
   "cell_type": "code",
   "execution_count": null,
   "id": "97c789e3-b848-4fa7-8e1e-d8a5bd830eb2",
   "metadata": {},
   "outputs": [],
   "source": [
    "Target Guided Ordinal Encoding (TGOE): is a technique for transforming categorical \n",
    "variables into numerical values using information from the target variable.\n",
    "It's particularly useful when the target variable is ordinal, meaning it has a natural\n",
    "order (e.g., low, medium, high).\n",
    "\n",
    "Its working:\n",
    "    \n",
    "1. Sort Categories: Categories are sorted based on the mean (or another statistic) of \n",
    "the target variable for each category.\n",
    "\n",
    "2. Rank Categories: Categories are assigned numerical values based on their rank in the\n",
    "sorted order. Higher ranks receive higher values.\n",
    "\n",
    "3. Encode Data: Each data point is replaced with the numerical value corresponding to\n",
    "its category's rank.\n",
    "\n",
    "Benefits of TGOE:\n",
    "    \n",
    "1. Captures the inherent order of the categorical variable.\n",
    "2. Can lead to better performance compared to simple ordinal encoding.\n",
    "3. More informative than one-hot encoding for ordinal data.\n",
    "\n",
    "Drawbacks of TGOE:\n",
    "\n",
    "1. Susceptible to data leakage if not implemented carefully.\n",
    "2. Can be sensitive to outliers in the target variable.\n",
    "\n",
    "When to use TGOE:\n",
    "\n",
    "1. When the target variable is ordinal.\n",
    "2. When the categorical variable has a clear order.\n",
    "3. When we want to capture the relationship between the categorical variable and the target variable.\n"
   ]
  },
  {
   "cell_type": "code",
   "execution_count": 5,
   "id": "6e3cd932-93b0-4859-875d-f64068412baa",
   "metadata": {},
   "outputs": [
    {
     "data": {
      "text/html": [
       "<div>\n",
       "<style scoped>\n",
       "    .dataframe tbody tr th:only-of-type {\n",
       "        vertical-align: middle;\n",
       "    }\n",
       "\n",
       "    .dataframe tbody tr th {\n",
       "        vertical-align: top;\n",
       "    }\n",
       "\n",
       "    .dataframe thead th {\n",
       "        text-align: right;\n",
       "    }\n",
       "</style>\n",
       "<table border=\"1\" class=\"dataframe\">\n",
       "  <thead>\n",
       "    <tr style=\"text-align: right;\">\n",
       "      <th></th>\n",
       "      <th>Employee Id</th>\n",
       "      <th>City</th>\n",
       "      <th>Highest Qualification</th>\n",
       "      <th>Salary</th>\n",
       "    </tr>\n",
       "  </thead>\n",
       "  <tbody>\n",
       "    <tr>\n",
       "      <th>0</th>\n",
       "      <td>A100</td>\n",
       "      <td>Delhi</td>\n",
       "      <td>phd</td>\n",
       "      <td>50000</td>\n",
       "    </tr>\n",
       "    <tr>\n",
       "      <th>1</th>\n",
       "      <td>A101</td>\n",
       "      <td>Delhi</td>\n",
       "      <td>bsc</td>\n",
       "      <td>30000</td>\n",
       "    </tr>\n",
       "    <tr>\n",
       "      <th>2</th>\n",
       "      <td>A102</td>\n",
       "      <td>Mumbai</td>\n",
       "      <td>msc</td>\n",
       "      <td>45000</td>\n",
       "    </tr>\n",
       "    <tr>\n",
       "      <th>3</th>\n",
       "      <td>B101</td>\n",
       "      <td>Pune</td>\n",
       "      <td>bsc</td>\n",
       "      <td>25000</td>\n",
       "    </tr>\n",
       "    <tr>\n",
       "      <th>4</th>\n",
       "      <td>B102</td>\n",
       "      <td>Kolkata</td>\n",
       "      <td>phd</td>\n",
       "      <td>48000</td>\n",
       "    </tr>\n",
       "    <tr>\n",
       "      <th>5</th>\n",
       "      <td>C100</td>\n",
       "      <td>Pune</td>\n",
       "      <td>msc</td>\n",
       "      <td>30000</td>\n",
       "    </tr>\n",
       "    <tr>\n",
       "      <th>6</th>\n",
       "      <td>D103</td>\n",
       "      <td>Kolkata</td>\n",
       "      <td>msc</td>\n",
       "      <td>44000</td>\n",
       "    </tr>\n",
       "  </tbody>\n",
       "</table>\n",
       "</div>"
      ],
      "text/plain": [
       "  Employee Id    City  Highest Qualification  Salary\n",
       "0        A100    Delhi                   phd   50000\n",
       "1        A101    Delhi                   bsc   30000\n",
       "2        A102   Mumbai                   msc   45000\n",
       "3        B101     Pune                   bsc   25000\n",
       "4        B102  Kolkata                   phd   48000\n",
       "5        C100     Pune                   msc   30000\n",
       "6        D103  Kolkata                   msc   44000"
      ]
     },
     "execution_count": 5,
     "metadata": {},
     "output_type": "execute_result"
    }
   ],
   "source": [
    "# Example:\n",
    "\n",
    "import pandas as pd\n",
    "\n",
    "df = pd.DataFrame({'Employee Id': ['A100','A101','A102','B101','B102','C100','D103'],\n",
    "                   'City ': ['Delhi','Delhi','Mumbai','Pune','Kolkata','Pune','Kolkata'],\n",
    "                   'Highest Qualification': ['phd','bsc','msc','bsc','phd','msc','msc'],\n",
    "                   'Salary': [50000,30000,45000,25000,48000,30000,44000]\n",
    "                   })\n",
    "df"
   ]
  },
  {
   "cell_type": "code",
   "execution_count": 8,
   "id": "06b65b26-2093-4b37-9a06-6dbf14bb3506",
   "metadata": {},
   "outputs": [
    {
     "data": {
      "text/plain": [
       "{'bsc': 27500.0, 'msc': 39666.666666666664, 'phd': 49000.0}"
      ]
     },
     "execution_count": 8,
     "metadata": {},
     "output_type": "execute_result"
    }
   ],
   "source": [
    "mean_price = df.groupby('Highest Qualification')['Salary'].mean().to_dict()\n",
    "mean_price"
   ]
  },
  {
   "cell_type": "code",
   "execution_count": 10,
   "id": "4916ddf4-0970-4be8-9f60-b05317e412d3",
   "metadata": {},
   "outputs": [
    {
     "data": {
      "text/html": [
       "<div>\n",
       "<style scoped>\n",
       "    .dataframe tbody tr th:only-of-type {\n",
       "        vertical-align: middle;\n",
       "    }\n",
       "\n",
       "    .dataframe tbody tr th {\n",
       "        vertical-align: top;\n",
       "    }\n",
       "\n",
       "    .dataframe thead th {\n",
       "        text-align: right;\n",
       "    }\n",
       "</style>\n",
       "<table border=\"1\" class=\"dataframe\">\n",
       "  <thead>\n",
       "    <tr style=\"text-align: right;\">\n",
       "      <th></th>\n",
       "      <th>Employee Id</th>\n",
       "      <th>City</th>\n",
       "      <th>Highest Qualification</th>\n",
       "      <th>Salary</th>\n",
       "      <th>Highest Qualification_encoded</th>\n",
       "    </tr>\n",
       "  </thead>\n",
       "  <tbody>\n",
       "    <tr>\n",
       "      <th>0</th>\n",
       "      <td>A100</td>\n",
       "      <td>Delhi</td>\n",
       "      <td>phd</td>\n",
       "      <td>50000</td>\n",
       "      <td>49000.000000</td>\n",
       "    </tr>\n",
       "    <tr>\n",
       "      <th>1</th>\n",
       "      <td>A101</td>\n",
       "      <td>Delhi</td>\n",
       "      <td>bsc</td>\n",
       "      <td>30000</td>\n",
       "      <td>27500.000000</td>\n",
       "    </tr>\n",
       "    <tr>\n",
       "      <th>2</th>\n",
       "      <td>A102</td>\n",
       "      <td>Mumbai</td>\n",
       "      <td>msc</td>\n",
       "      <td>45000</td>\n",
       "      <td>39666.666667</td>\n",
       "    </tr>\n",
       "    <tr>\n",
       "      <th>3</th>\n",
       "      <td>B101</td>\n",
       "      <td>Pune</td>\n",
       "      <td>bsc</td>\n",
       "      <td>25000</td>\n",
       "      <td>27500.000000</td>\n",
       "    </tr>\n",
       "    <tr>\n",
       "      <th>4</th>\n",
       "      <td>B102</td>\n",
       "      <td>Kolkata</td>\n",
       "      <td>phd</td>\n",
       "      <td>48000</td>\n",
       "      <td>49000.000000</td>\n",
       "    </tr>\n",
       "    <tr>\n",
       "      <th>5</th>\n",
       "      <td>C100</td>\n",
       "      <td>Pune</td>\n",
       "      <td>msc</td>\n",
       "      <td>30000</td>\n",
       "      <td>39666.666667</td>\n",
       "    </tr>\n",
       "    <tr>\n",
       "      <th>6</th>\n",
       "      <td>D103</td>\n",
       "      <td>Kolkata</td>\n",
       "      <td>msc</td>\n",
       "      <td>44000</td>\n",
       "      <td>39666.666667</td>\n",
       "    </tr>\n",
       "  </tbody>\n",
       "</table>\n",
       "</div>"
      ],
      "text/plain": [
       "  Employee Id    City  Highest Qualification  Salary  \\\n",
       "0        A100    Delhi                   phd   50000   \n",
       "1        A101    Delhi                   bsc   30000   \n",
       "2        A102   Mumbai                   msc   45000   \n",
       "3        B101     Pune                   bsc   25000   \n",
       "4        B102  Kolkata                   phd   48000   \n",
       "5        C100     Pune                   msc   30000   \n",
       "6        D103  Kolkata                   msc   44000   \n",
       "\n",
       "   Highest Qualification_encoded  \n",
       "0                   49000.000000  \n",
       "1                   27500.000000  \n",
       "2                   39666.666667  \n",
       "3                   27500.000000  \n",
       "4                   49000.000000  \n",
       "5                   39666.666667  \n",
       "6                   39666.666667  "
      ]
     },
     "execution_count": 10,
     "metadata": {},
     "output_type": "execute_result"
    }
   ],
   "source": [
    "df['Highest Qualification_encoded'] = df['Highest Qualification'].map(mean_price)\n",
    "df"
   ]
  },
  {
   "cell_type": "code",
   "execution_count": null,
   "id": "1cc854a1-8eeb-4e3e-995d-864391ef15d3",
   "metadata": {},
   "outputs": [],
   "source": [
    "Q3. Define covariance and explain why it is important in statistical analysis. \n",
    "How is covariance calculated?"
   ]
  },
  {
   "cell_type": "code",
   "execution_count": null,
   "id": "b00d2a25-c11f-43a2-b619-cc21cf2feae7",
   "metadata": {},
   "outputs": [],
   "source": [
    "Covariance is a statistical tool that measures the relationship between two or more\n",
    "random variables and how they change together. It can be used to determine the direction\n",
    "of the relationship, and whether the variables move in tandem or in opposite directions.\n",
    "\n",
    "Covariance is important in statistical analysis because it can help us understand the\n",
    "relationship between variables and analyze risk. For example, in finance, covariance\n",
    "is used in portfolio theory to help diversify assets and reduce unsystematic risk.\n",
    "\n",
    "Formula for Covariance: \n",
    "    \n",
    "Covariance(x,y) = ∑ [(xi-x̄)(yi-ȳ)]/(n−1)\n",
    "where,\n",
    "xi = data points of x\n",
    "x̄ = sample mean of x\n",
    "yi = data points of y\n",
    "ȳ = sample mean of y\n",
    "n = Sample Size"
   ]
  },
  {
   "cell_type": "code",
   "execution_count": null,
   "id": "b797c2e5-e4f1-4050-82e4-fdfac151bf18",
   "metadata": {},
   "outputs": [],
   "source": [
    "Q4. For a dataset with the following categorical variables: Color (red, green, blue), Size (small, medium,\n",
    "large), and Material (wood, metal, plastic), perform label encoding using Python's scikit-learn library.\n",
    "Show your code and explain the output."
   ]
  },
  {
   "cell_type": "code",
   "execution_count": 40,
   "id": "8bae88d6-9bac-49ff-9730-49ac93106a13",
   "metadata": {},
   "outputs": [
    {
     "name": "stdout",
     "output_type": "stream",
     "text": [
      "[2 1 0 2 0] [2 0 1 2 1]\n"
     ]
    }
   ],
   "source": [
    "import pandas as pd\n",
    "from sklearn.preprocessing import LabelEncoder\n",
    "\n",
    "df = pd.DataFrame({'Color': ['red','green','blue','red','blue'],\n",
    "                   'Size': ['small','medium','large','medium','large'],\n",
    "                   'Material': ['wood','metal','plastic','wood','plastic']})\n",
    "\n",
    "encoder = LabelEncoder()\n",
    "encoded1 = encoder.fit_transform(df['Color'])\n",
    "encoded2 = encoder.fit_transform(df['Material'])\n",
    "print(encoded1,encoded2)"
   ]
  },
  {
   "cell_type": "code",
   "execution_count": null,
   "id": "1da1138e-d94f-4f50-850c-2db1695906b3",
   "metadata": {},
   "outputs": [],
   "source": [
    "With the help of Label Encoding, we have labels as follows:-\n",
    "Color red is given '2', green as '1' and blue as '0'.\n",
    "Similarly, Material wood is given '2', metal as '0' and plastic as '1'."
   ]
  },
  {
   "cell_type": "code",
   "execution_count": null,
   "id": "8281e420-29fe-4f4c-ba66-6b76d513cfda",
   "metadata": {},
   "outputs": [],
   "source": [
    "Q5. Calculate the covariance matrix for the following variables in a dataset: Age, Income, and Education\n",
    "level. Interpret the results."
   ]
  },
  {
   "cell_type": "code",
   "execution_count": 1,
   "id": "64b07f65-6c60-4d54-95a4-b719fe070f05",
   "metadata": {},
   "outputs": [
    {
     "name": "stderr",
     "output_type": "stream",
     "text": [
      "/tmp/ipykernel_77/1505128714.py:7: FutureWarning: The default value of numeric_only in DataFrame.cov is deprecated. In a future version, it will default to False. Select only valid columns or specify the value of numeric_only to silence this warning.\n",
      "  df.cov()\n"
     ]
    },
    {
     "data": {
      "text/html": [
       "<div>\n",
       "<style scoped>\n",
       "    .dataframe tbody tr th:only-of-type {\n",
       "        vertical-align: middle;\n",
       "    }\n",
       "\n",
       "    .dataframe tbody tr th {\n",
       "        vertical-align: top;\n",
       "    }\n",
       "\n",
       "    .dataframe thead th {\n",
       "        text-align: right;\n",
       "    }\n",
       "</style>\n",
       "<table border=\"1\" class=\"dataframe\">\n",
       "  <thead>\n",
       "    <tr style=\"text-align: right;\">\n",
       "      <th></th>\n",
       "      <th>Age</th>\n",
       "      <th>Income</th>\n",
       "    </tr>\n",
       "  </thead>\n",
       "  <tbody>\n",
       "    <tr>\n",
       "      <th>Age</th>\n",
       "      <td>21.7</td>\n",
       "      <td>46900.0</td>\n",
       "    </tr>\n",
       "    <tr>\n",
       "      <th>Income</th>\n",
       "      <td>46900.0</td>\n",
       "      <td>128300000.0</td>\n",
       "    </tr>\n",
       "  </tbody>\n",
       "</table>\n",
       "</div>"
      ],
      "text/plain": [
       "            Age       Income\n",
       "Age        21.7      46900.0\n",
       "Income  46900.0  128300000.0"
      ]
     },
     "execution_count": 1,
     "metadata": {},
     "output_type": "execute_result"
    }
   ],
   "source": [
    "import pandas as pd\n",
    "\n",
    "df = pd.DataFrame({'Age': [35,28,31,27,38],\n",
    "                   'Income': [50000,30000,45000,25000,48000],\n",
    "                   'Education': ['phd','bsc','msc','bsc','phd']})\n",
    "\n",
    "df.cov()"
   ]
  },
  {
   "cell_type": "code",
   "execution_count": null,
   "id": "79649bd2-768c-4c76-a606-2f213feb0560",
   "metadata": {},
   "outputs": [],
   "source": [
    "The covariance matrix is symmetric, as the covariance between Age and Income is the\n",
    "same as the covariance between Income and Age.\n",
    "\n",
    "The variance of Age is approximately 21.7.\n",
    "The variance of Income is approximately 128300000.0.\n",
    "\n",
    "As the variables Age and Income have positive covariance i.e.,46900.00\n",
    "that means there is direct relationship between the variables.\n",
    "It indicates that as Age increases, Income tends to increase as well (they move together)."
   ]
  },
  {
   "cell_type": "code",
   "execution_count": null,
   "id": "5ac6085b-7f99-4285-a780-02b121154bf7",
   "metadata": {},
   "outputs": [],
   "source": [
    "Q6. You are working on a machine learning project with a dataset containing several categorical\n",
    "variables, including \"Gender\" (Male/Female), \"Education Level\" (High School/Bachelor's/Master's/PhD),\n",
    "and \"Employment Status\" (Unemployed/Part-Time/Full-Time). Which encoding method would you use for\n",
    "each variable, and why?"
   ]
  },
  {
   "cell_type": "code",
   "execution_count": null,
   "id": "b1d9add8-2d7e-408c-bd96-74162ffa4051",
   "metadata": {},
   "outputs": [],
   "source": [
    "Gender (Binary Categorical Variable: Male/Female): is a binary categorical variable\n",
    "with only two possible values (Male and Female), the preferred encoding method is\n",
    "Label Encoding. We can assign 0 to one category (e.g., Male) and 1 to the other \n",
    "category (e.g., Female). \n",
    "\n",
    "Education Level (Ordinal Categorical Variable: High School/Bachelor's/Master's/PhD):In\n",
    "this case, the recommended encoding method is Ordinal Encoding. \n",
    "For example, we can encode High School as 0, Bachelor's as 1, Master's as 2, and PhD as 3.\n",
    "\n",
    "Employment Status (Nominal Categorical Variable: Unemployed/Part-Time/Full-Time): is a nominal\n",
    "categorical variable with no inherent order among its categories. The preferred encoding \n",
    "method is One-Hot Encoding. \n",
    "For example, we can create three columns (Unemployed, Part-Time, Full-Time) where the\n",
    "corresponding category is encoded as 1 and the others as 0."
   ]
  },
  {
   "cell_type": "code",
   "execution_count": null,
   "id": "398806f9-4e6e-48d1-a8a7-6bc9d837c1ea",
   "metadata": {},
   "outputs": [],
   "source": [
    "Q7. You are analyzing a dataset with two continuous variables, \"Temperature\" and \"Humidity\", and two\n",
    "categorical variables, \"Weather Condition\" (Sunny/Cloudy/Rainy) and \"Wind Direction\" (North/South/\n",
    "East/West). Calculate the covariance between each pair of variables and interpret the results."
   ]
  },
  {
   "cell_type": "code",
   "execution_count": 2,
   "id": "76b00826-713f-4eba-bb31-387c8bd26440",
   "metadata": {},
   "outputs": [],
   "source": [
    "import pandas as pd\n",
    "\n",
    "df = pd.DataFrame({'Temperature': [48,50,33,30,28],\n",
    "                   'Humidity': [60,20,55,15,58],\n",
    "                   'Weather Condition': ['Rainy','Sunny','Cloudy','Sunny','Cloudy'],\n",
    "                   'Wind Direction': ['North','South','East','West','North']})"
   ]
  },
  {
   "cell_type": "code",
   "execution_count": 3,
   "id": "20256368-b740-4596-b79e-95657598c2f1",
   "metadata": {},
   "outputs": [
    {
     "name": "stderr",
     "output_type": "stream",
     "text": [
      "/tmp/ipykernel_77/1545644723.py:1: FutureWarning: The default value of numeric_only in DataFrame.cov is deprecated. In a future version, it will default to False. Select only valid columns or specify the value of numeric_only to silence this warning.\n",
      "  df.cov()\n"
     ]
    },
    {
     "data": {
      "text/html": [
       "<div>\n",
       "<style scoped>\n",
       "    .dataframe tbody tr th:only-of-type {\n",
       "        vertical-align: middle;\n",
       "    }\n",
       "\n",
       "    .dataframe tbody tr th {\n",
       "        vertical-align: top;\n",
       "    }\n",
       "\n",
       "    .dataframe thead th {\n",
       "        text-align: right;\n",
       "    }\n",
       "</style>\n",
       "<table border=\"1\" class=\"dataframe\">\n",
       "  <thead>\n",
       "    <tr style=\"text-align: right;\">\n",
       "      <th></th>\n",
       "      <th>Temperature</th>\n",
       "      <th>Humidity</th>\n",
       "    </tr>\n",
       "  </thead>\n",
       "  <tbody>\n",
       "    <tr>\n",
       "      <th>Temperature</th>\n",
       "      <td>108.20</td>\n",
       "      <td>-23.35</td>\n",
       "    </tr>\n",
       "    <tr>\n",
       "      <th>Humidity</th>\n",
       "      <td>-23.35</td>\n",
       "      <td>490.30</td>\n",
       "    </tr>\n",
       "  </tbody>\n",
       "</table>\n",
       "</div>"
      ],
      "text/plain": [
       "             Temperature  Humidity\n",
       "Temperature       108.20    -23.35\n",
       "Humidity          -23.35    490.30"
      ]
     },
     "execution_count": 3,
     "metadata": {},
     "output_type": "execute_result"
    }
   ],
   "source": [
    "df.cov()"
   ]
  },
  {
   "cell_type": "code",
   "execution_count": null,
   "id": "202fa2dc-0500-4231-aa1b-3e7a61fa3eb0",
   "metadata": {},
   "outputs": [],
   "source": [
    "The covariance matrix is symmetric, as the covariance between Temperature and\n",
    "Humidity is the same as the covariance between Humidity and Temperature.\n",
    "\n",
    "The variance of Temperature is approximately 108.20.\n",
    "The variance of Humidity is approximately 490.30.\n",
    "\n",
    "As the variables Temperature and Humidity have negative covariance i.e.,-23.35\n",
    "that means there is inverse relationship between the variables.\n",
    "It indicates that as Temperature increases, Humidity tends to decrease as well\n",
    "(they move in opposite directions) and vice-versa."
   ]
  }
 ],
 "metadata": {
  "kernelspec": {
   "display_name": "Python 3 (ipykernel)",
   "language": "python",
   "name": "python3"
  },
  "language_info": {
   "codemirror_mode": {
    "name": "ipython",
    "version": 3
   },
   "file_extension": ".py",
   "mimetype": "text/x-python",
   "name": "python",
   "nbconvert_exporter": "python",
   "pygments_lexer": "ipython3",
   "version": "3.10.8"
  }
 },
 "nbformat": 4,
 "nbformat_minor": 5
}
